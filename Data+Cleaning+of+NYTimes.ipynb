{
 "cells": [
  {
   "cell_type": "code",
   "execution_count": 3,
   "metadata": {
    "collapsed": false
   },
   "outputs": [],
   "source": [
    "import pandas as pd\n",
    "import os\n",
    "import csv"
   ]
  },
  {
   "cell_type": "code",
   "execution_count": 12,
   "metadata": {
    "collapsed": false
   },
   "outputs": [],
   "source": [
    "# Check whether cases and deaths in NYTimes data have negative values\n",
    "\n",
    "f = open(r\"C:\\Users\\Mingo\\Downloads\\covid-19-data-master\\covid-19-data-master\\us-counties.csv\")\n",
    "csv_f = csv.reader(f)\n",
    "count = 0\n",
    "\n",
    "for row in csv_f:\n",
    "    if count == 0:\n",
    "        count+=1\n",
    "        continue\n",
    "    if int(row[4]) < 0 or int(row[5]) < 0 or row[4] == \"\" or row[5] == \"\":\n",
    "        print(row)\n",
    "        \n",
    "f.close()"
   ]
  },
  {
   "cell_type": "code",
   "execution_count": 11,
   "metadata": {
    "collapsed": false
   },
   "outputs": [],
   "source": [
    "# Check whether m50 and m50_index data have negative or null values \n",
    "f = open(r\"C:\\Users\\Mingo\\Downloads\\DL-COVID-19-master\\DL-COVID-19-master\\DL-us-mobility-daterow.csv\")\n",
    "csv_f = csv.reader(f)\n",
    "count = 0\n",
    "\n",
    "for row in csv_f:\n",
    "    if count == 0:\n",
    "        count += 1\n",
    "        continue\n",
    "    if int(row[-1]) < 0 or float(row[-2]) < 0.0 or row[-1] == \"\" or row[-2] == \"\":\n",
    "        print(row)\n",
    "f.close()"
   ]
  },
  {
   "cell_type": "code",
   "execution_count": null,
   "metadata": {
    "collapsed": false
   },
   "outputs": [],
   "source": [
    "\n"
   ]
  },
  {
   "cell_type": "code",
   "execution_count": null,
   "metadata": {
    "collapsed": true
   },
   "outputs": [],
   "source": []
  }
 ],
 "metadata": {
  "anaconda-cloud": {},
  "kernelspec": {
   "display_name": "Python [default]",
   "language": "python",
   "name": "python3"
  },
  "language_info": {
   "codemirror_mode": {
    "name": "ipython",
    "version": 3
   },
   "file_extension": ".py",
   "mimetype": "text/x-python",
   "name": "python",
   "nbconvert_exporter": "python",
   "pygments_lexer": "ipython3",
   "version": "3.5.2"
  }
 },
 "nbformat": 4,
 "nbformat_minor": 1
}
