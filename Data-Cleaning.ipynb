{
 "cells": [
  {
   "cell_type": "code",
   "execution_count": 1,
   "metadata": {},
   "outputs": [],
   "source": [
    "import pandas as pd\n",
    "import os\n",
    "import csv"
   ]
  },
  {
   "cell_type": "code",
   "execution_count": 3,
   "metadata": {},
   "outputs": [],
   "source": [
    "# Check whether cases and deaths in NYTimes data have negative values\n",
    "\n",
    "f = open(r\"us-counties-4-26.csv\")\n",
    "csv_f = csv.reader(f)\n",
    "count = 0\n",
    "\n",
    "for row in csv_f:\n",
    "    if count == 0:\n",
    "        count+=1\n",
    "        continue\n",
    "    if int(row[4]) < 0 or int(row[5]) < 0 or row[4] == \"\" or row[5] == \"\":\n",
    "        print(row)\n",
    "        \n",
    "f.close()"
   ]
  },
  {
   "cell_type": "code",
   "execution_count": 4,
   "metadata": {},
   "outputs": [],
   "source": [
    "# Check whether m50 and m50_index data have negative or null values \n",
    "f = open(r\"DL-us-mobility-daterow-4-23.csv\")\n",
    "csv_f = csv.reader(f)\n",
    "count = 0\n",
    "\n",
    "for row in csv_f:\n",
    "    if count == 0:\n",
    "        count += 1\n",
    "        continue\n",
    "    if int(row[-1]) < 0 or float(row[-2]) < 0.0 or row[-1] == \"\" or row[-2] == \"\":\n",
    "        print(row)\n",
    "f.close()"
   ]
  },
  {
   "cell_type": "code",
   "execution_count": null,
   "metadata": {},
   "outputs": [],
   "source": [
    "print('test')\n"
   ]
  },
  {
   "cell_type": "code",
   "execution_count": null,
   "metadata": {},
   "outputs": [],
   "source": []
  }
 ],
 "metadata": {
  "anaconda-cloud": {},
  "kernelspec": {
   "display_name": "Python 3",
   "language": "python",
   "name": "python3"
  },
  "language_info": {
   "codemirror_mode": {
    "name": "ipython",
    "version": 3
   },
   "file_extension": ".py",
   "mimetype": "text/x-python",
   "name": "python",
   "nbconvert_exporter": "python",
   "pygments_lexer": "ipython3",
   "version": "3.7.3"
  }
 },
 "nbformat": 4,
 "nbformat_minor": 1
}
